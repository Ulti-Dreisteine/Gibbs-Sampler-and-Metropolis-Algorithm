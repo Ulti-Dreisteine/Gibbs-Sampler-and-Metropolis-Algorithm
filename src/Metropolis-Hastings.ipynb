{
 "cells": [
  {
   "cell_type": "markdown",
   "id": "d26a3e52-1c88-45c0-b512-5e051e387a26",
   "metadata": {},
   "source": [
    "# Metropolis-Hastings Algorithm"
   ]
  },
  {
   "cell_type": "markdown",
   "id": "de960267-df39-4322-b8a5-e8265f94db39",
   "metadata": {},
   "source": [
    "## 一、算法背景"
   ]
  },
  {
   "cell_type": "markdown",
   "id": "b996c42a-b82f-4bf5-ad5d-294b188ec8f3",
   "metadata": {},
   "source": [
    "对具有$m$个有限状态的时序过程进行模拟，获得该时序过程的相关统计指标。"
   ]
  },
  {
   "cell_type": "markdown",
   "id": "9ac9cfc6-af5d-49de-ac12-0f912baa5f97",
   "metadata": {},
   "source": [
    "例如：社会根据人民所拥有的资产分为上层、中层、下层，且它们之间可以转换，也就是每一层的人民都有一定的几率变成其他层，它们之间的转移概率矩阵$\\bf P$为：  "
   ]
  },
  {
   "cell_type": "markdown",
   "id": "112f4af0-8e68-4e2a-877e-46c0c5efebfe",
   "metadata": {},
   "source": [
    "||下层|中层|上层|\n",
    "|---|---|---|---|\n",
    "|下层|0.65|0.28|0.17|\n",
    "|中层|0.15|0.67|0.18|\n",
    "|上层|0.12|0.36|0.52|"
   ]
  },
  {
   "cell_type": "markdown",
   "id": "0b1e28ad-3e79-4bbb-ae57-b5f0fb140cb0",
   "metadata": {},
   "source": [
    "从上图易知，转移概率矩阵$\\bf P$满足：\n",
    "\n",
    "$$\n",
    "\\sum_{j=1}^{m} P_{i,j} = 1, \\forall i \\in [1, m] \\tag{1}\n",
    "$$"
   ]
  },
  {
   "cell_type": "markdown",
   "id": "6b8614f9-4d3d-41ba-b740-1934ac27603c",
   "metadata": {},
   "source": [
    "系统在某时刻$t$的状态$s^{(t)}$表示处于各状态的概率：\n",
    "\n",
    "$$\n",
    "s^{(t)} = [\\pi_1,\\cdots,\\pi_m] \\tag{2}\n",
    "$$"
   ]
  },
  {
   "cell_type": "markdown",
   "id": "c01a6bdf-c62e-49ee-9ee0-24c1fb0b1e6c",
   "metadata": {},
   "source": [
    "那么，系统在时刻$t$的状态$s^{(t)}$可由上一时刻状态计算：\n",
    "\n",
    "$$\n",
    "s^{(t)} = s^{(t-1)} \\cdot {\\bf P} \\tag{3}\n",
    "$$\n",
    "\n",
    "即构成了Markov链：\n",
    "\n",
    "$$\n",
    "s^{(0)} \\rightarrow s^{(1)} \\rightarrow \\cdots \\rightarrow s^{(t-1)} \\rightarrow s^{(t)} \\rightarrow \\cdots \\tag{4}\n",
    "$$"
   ]
  },
  {
   "cell_type": "markdown",
   "id": "010096e9-a8a9-4af6-8c29-66e14f8da69d",
   "metadata": {},
   "source": [
    "**1.1 Markov链平稳性**  \n",
    "若(4)中的Markov链在进行了无限次(3)中的迭代后状态值收敛，即\n",
    "\n",
    "$$\n",
    "\\lim_{t \\rightarrow \\infty} s^{(t)} \\rightarrow s^* \\tag{5}\n",
    "$$\n",
    "\n",
    "则称该Markov链是平稳的。"
   ]
  },
  {
   "cell_type": "markdown",
   "id": "bc15ccbb-0ce7-4d0d-99ce-3b2274d44e49",
   "metadata": {
    "tags": []
   },
   "source": [
    "**1.2 Markov链的细致平稳条件**  \n",
    "给定一条Markov链，若\n",
    "\n",
    "$$\n",
    "\\pi_i P_{i,j} = \\pi_j P_{j,i}, \\forall i, j \\tag{6}\n",
    "$$\n",
    "\n",
    "则该Markov链是平稳的，并收敛到平稳分布$\\pi$满足：\n",
    "\n",
    "$$\n",
    "s^* \\cdot {\\bf P} = s^* \\tag{7}\n",
    "$$"
   ]
  },
  {
   "cell_type": "markdown",
   "id": "b5f6d8e6-f244-4a70-85b9-774013a09401",
   "metadata": {},
   "source": [
    "**注意**：1.2是1.1的充分条件，不满足1.2的Markov链也可能是平稳的吗？  \n",
    "**疑问**：满足(7)一般满足(6)吗？"
   ]
  },
  {
   "cell_type": "markdown",
   "id": "c76c125c-6471-4890-8039-1e98b30dc756",
   "metadata": {},
   "source": [
    "## 二、Metropolis采样算法"
   ]
  },
  {
   "cell_type": "markdown",
   "id": "e9cce1f5-0b37-4fd9-aac1-2f8a798c28ed",
   "metadata": {},
   "source": [
    "一般在实际场景中面临的问题是：已知时序数据状态数$m$以及各状态概率$\\pi$，对各状态之间的状态转移矩阵$\\bf P$进行估计。但是，随意设定的状态转移矩阵，即提议分布$\\bf Q$，可能并不满足式(6)中的细致平稳条件，\n",
    "\n",
    "$$\n",
    "\\pi_i \\cdot Q_{i,j} \\neq \\pi_j \\cdot Q_{j,i} \\tag{8}\n",
    "$$"
   ]
  },
  {
   "cell_type": "markdown",
   "id": "347f90c0-c168-4b61-a1bb-46e879591a9c",
   "metadata": {},
   "source": [
    "为了让上式(8)左右相等，考虑分别乘以接收概率$\\alpha$：\n",
    "\n",
    "$$\n",
    "\\pi_i \\cdot Q_{i,j} \\cdot \\alpha_{i,j} = \\pi_j \\cdot Q_{j,i} \\cdot \\alpha_{j,i} \\tag{9}\n",
    "$$\n",
    "\n",
    "其中，\n",
    "\n",
    "$$\n",
    "\\begin{align*}\n",
    "\\alpha_{i,j}=\\pi_j \\cdot Q_{j, i} \\\\ \\tag{10}\n",
    "\\alpha_{j,i}=\\pi_i \\cdot Q_{i, j} \\\\\n",
    "\\end{align*}\n",
    "$$"
   ]
  },
  {
   "cell_type": "markdown",
   "id": "c0ca9e9a-76a2-4120-ac9e-3f595f7ecf65",
   "metadata": {},
   "source": [
    "这样一来，将提议分布于接受概率相组合便构成了转移概率\n",
    "\n",
    "$$\n",
    "\\begin{align*}\n",
    "P_{i,j} = Q_{i,j} \\cdot \\alpha_{i, j} \\\\ \\tag{11}\n",
    "P_{j,i} = Q_{j,i} \\cdot \\alpha_{j, i} \\\\\n",
    "\\end{align*}\n",
    "$$"
   ]
  },
  {
   "cell_type": "markdown",
   "id": "d2cb169c-fad4-468b-9ecb-86d5195563fe",
   "metadata": {},
   "source": [
    "对于一个十分复杂的分布$\\pi$，其**潜在地**对应着一个转移概率矩阵$\\bf P$。我们希望从一个已知**对称**转移矩阵为${\\bf Q}$的较为简单的分布$\\theta$中进行采样，并以一定概率接受采得样本作为对$\\pi$分布的近似采样。"
   ]
  },
  {
   "cell_type": "markdown",
   "id": "eedfee05-80bd-4d98-9374-8f03d2fc0257",
   "metadata": {},
   "source": [
    "假设我们采得了$\\pi$在第$t-1$步的近似样本$x_{t-1}$，接下来便从$\\theta(x|x_{t-1})$中新采集一个样本$\\hat x$。以概率$\\alpha = \\min (1, \\pi(\\hat x) / \\pi(x_{t-1}))$接受$x_{t} = \\hat x$，否则$x_{t} = x_{t-1}$。"
   ]
  },
  {
   "cell_type": "markdown",
   "id": "78e5681a-d45a-46da-9bf1-314827a43414",
   "metadata": {},
   "source": [
    "以上过程对应的转移概率矩阵$\\bf P$满足：\n",
    "\n",
    "$$\n",
    "P_{i,j} = \\alpha_{i,j} \\cdot Q_{i,j} \\tag{12}\n",
    "$$\n",
    "\n",
    "只要保证$\\bf P$满足式(6)中的细致平稳条件，那么从$(\\theta, {\\bf Q})$中根据接受概率$\\alpha$所采集的样本就符合$(\\pi, \\bf P)$的分布。"
   ]
  },
  {
   "cell_type": "markdown",
   "id": "e54bf029-07da-48b7-ae7d-7e90b1819719",
   "metadata": {},
   "source": [
    "事实上：\n",
    "\n",
    "$$\n",
    "\\begin{align*}\n",
    "\\pi_i \\cdot P_{i,j} &= \\pi_i \\cdot \\alpha_{i,j} \\cdot Q_{i,j} \\\\ \\tag{13}\n",
    "&= \\pi_i \\cdot \\min(1, \\pi_j / \\pi_i) \\cdot Q_{i,j} \\\\\n",
    "&= \\min(\\pi_i \\cdot Q_{i,j}, \\pi_j \\cdot Q_{i,j}) \\\\\n",
    "\\end{align*}\n",
    "$$"
   ]
  },
  {
   "cell_type": "markdown",
   "id": "f1a4d1a0-a140-4cb3-9ff6-6967c11a566b",
   "metadata": {},
   "source": [
    "根据$\\bf Q$的对称性，\n",
    "\n",
    "$$\n",
    "\\begin{align*}\n",
    "\\pi_i \\cdot P_{i,j} &= \\min(\\pi_i \\cdot Q_{j,i}, \\pi_j \\cdot Q_{j,i}) \\\\ \\tag{14}\n",
    "&= \\pi_j \\cdot \\min(1, \\pi_i / \\pi_j) \\cdot Q_{j,i} \\\\\n",
    "&= \\pi_j \\cdot P_{j,i} \\\\\n",
    "\\end{align*}\n",
    "$$"
   ]
  },
  {
   "cell_type": "markdown",
   "id": "8aef2188-ae3e-4c06-93a7-3452c06bed41",
   "metadata": {},
   "source": [
    "Metropolis采样过程满足细致平稳条件。"
   ]
  },
  {
   "cell_type": "markdown",
   "id": "1229b746-3701-4400-849a-e3a80e2a6317",
   "metadata": {},
   "source": [
    "参见：https://blog.csdn.net/jingjishisi/article/details/79291258"
   ]
  },
  {
   "cell_type": "code",
   "execution_count": null,
   "id": "e87fd63a-572f-410e-a7bf-289261050043",
   "metadata": {},
   "outputs": [],
   "source": []
  }
 ],
 "metadata": {
  "kernelspec": {
   "display_name": "R",
   "language": "R",
   "name": "ir"
  },
  "language_info": {
   "codemirror_mode": "r",
   "file_extension": ".r",
   "mimetype": "text/x-r-source",
   "name": "R",
   "pygments_lexer": "r",
   "version": "4.1.0"
  }
 },
 "nbformat": 4,
 "nbformat_minor": 5
}
